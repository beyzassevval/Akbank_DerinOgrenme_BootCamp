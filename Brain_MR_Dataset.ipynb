{
  "nbformat": 4,
  "nbformat_minor": 0,
  "metadata": {
    "colab": {
      "provenance": [],
      "authorship_tag": "ABX9TyMtxZKBppr9W+v6SvyWEtpM",
      "include_colab_link": true
    },
    "kernelspec": {
      "name": "python3",
      "display_name": "Python 3"
    },
    "language_info": {
      "name": "python"
    }
  },
  "cells": [
    {
      "cell_type": "markdown",
      "metadata": {
        "id": "view-in-github",
        "colab_type": "text"
      },
      "source": [
        "<a href=\"https://colab.research.google.com/github/beyzassevval/Akbank_DerinOgrenme_BootCamp/blob/main/Brain_MR_Dataset.ipynb\" target=\"_parent\"><img src=\"https://colab.research.google.com/assets/colab-badge.svg\" alt=\"Open In Colab\"/></a>"
      ]
    },
    {
      "cell_type": "markdown",
      "source": [
        "# ====================================================================\n",
        "# Adım 1: Gerekli Kütüphaneleri Yükleme ve Kaggle API Kurulumu\n",
        "# =================================================\n",
        "\n",
        "Kaggle API ile kolayca veri seti indirmek için opendatasets kütüphanesini yüklüyoruz.\n",
        "===================================================\n",
        "TensorFlow ve Keras'ı yüklüyoruz.\n",
        "===================================================\n",
        "Kullanıcıdan Kaggle.json dosyasını yüklemesini istiyoruz\n",
        "Dosyayı doğru konuma taşıyıp,izinleri ayarlıyoruz.\n",
        "\n",
        "==================================================="
      ],
      "metadata": {
        "id": "e3wnRRJJSN8F"
      }
    },
    {
      "cell_type": "code",
      "execution_count": 1,
      "metadata": {
        "colab": {
          "base_uri": "https://localhost:8080/",
          "height": 160
        },
        "id": "wpUFxrWxRwOy",
        "outputId": "d3c685b0-0719-43b3-84e8-a4313b50fe26"
      },
      "outputs": [
        {
          "output_type": "stream",
          "name": "stdout",
          "text": [
            "Adım 1: Kurulumlar yapılıyor...\n",
            "\n",
            "Lütfen Kaggle API anahtarınızı (kaggle.json) yükleyin.\n"
          ]
        },
        {
          "output_type": "display_data",
          "data": {
            "text/plain": [
              "<IPython.core.display.HTML object>"
            ],
            "text/html": [
              "\n",
              "     <input type=\"file\" id=\"files-f9314f92-82dc-4534-9934-f1c569e2f531\" name=\"files[]\" multiple disabled\n",
              "        style=\"border:none\" />\n",
              "     <output id=\"result-f9314f92-82dc-4534-9934-f1c569e2f531\">\n",
              "      Upload widget is only available when the cell has been executed in the\n",
              "      current browser session. Please rerun this cell to enable.\n",
              "      </output>\n",
              "      <script>// Copyright 2017 Google LLC\n",
              "//\n",
              "// Licensed under the Apache License, Version 2.0 (the \"License\");\n",
              "// you may not use this file except in compliance with the License.\n",
              "// You may obtain a copy of the License at\n",
              "//\n",
              "//      http://www.apache.org/licenses/LICENSE-2.0\n",
              "//\n",
              "// Unless required by applicable law or agreed to in writing, software\n",
              "// distributed under the License is distributed on an \"AS IS\" BASIS,\n",
              "// WITHOUT WARRANTIES OR CONDITIONS OF ANY KIND, either express or implied.\n",
              "// See the License for the specific language governing permissions and\n",
              "// limitations under the License.\n",
              "\n",
              "/**\n",
              " * @fileoverview Helpers for google.colab Python module.\n",
              " */\n",
              "(function(scope) {\n",
              "function span(text, styleAttributes = {}) {\n",
              "  const element = document.createElement('span');\n",
              "  element.textContent = text;\n",
              "  for (const key of Object.keys(styleAttributes)) {\n",
              "    element.style[key] = styleAttributes[key];\n",
              "  }\n",
              "  return element;\n",
              "}\n",
              "\n",
              "// Max number of bytes which will be uploaded at a time.\n",
              "const MAX_PAYLOAD_SIZE = 100 * 1024;\n",
              "\n",
              "function _uploadFiles(inputId, outputId) {\n",
              "  const steps = uploadFilesStep(inputId, outputId);\n",
              "  const outputElement = document.getElementById(outputId);\n",
              "  // Cache steps on the outputElement to make it available for the next call\n",
              "  // to uploadFilesContinue from Python.\n",
              "  outputElement.steps = steps;\n",
              "\n",
              "  return _uploadFilesContinue(outputId);\n",
              "}\n",
              "\n",
              "// This is roughly an async generator (not supported in the browser yet),\n",
              "// where there are multiple asynchronous steps and the Python side is going\n",
              "// to poll for completion of each step.\n",
              "// This uses a Promise to block the python side on completion of each step,\n",
              "// then passes the result of the previous step as the input to the next step.\n",
              "function _uploadFilesContinue(outputId) {\n",
              "  const outputElement = document.getElementById(outputId);\n",
              "  const steps = outputElement.steps;\n",
              "\n",
              "  const next = steps.next(outputElement.lastPromiseValue);\n",
              "  return Promise.resolve(next.value.promise).then((value) => {\n",
              "    // Cache the last promise value to make it available to the next\n",
              "    // step of the generator.\n",
              "    outputElement.lastPromiseValue = value;\n",
              "    return next.value.response;\n",
              "  });\n",
              "}\n",
              "\n",
              "/**\n",
              " * Generator function which is called between each async step of the upload\n",
              " * process.\n",
              " * @param {string} inputId Element ID of the input file picker element.\n",
              " * @param {string} outputId Element ID of the output display.\n",
              " * @return {!Iterable<!Object>} Iterable of next steps.\n",
              " */\n",
              "function* uploadFilesStep(inputId, outputId) {\n",
              "  const inputElement = document.getElementById(inputId);\n",
              "  inputElement.disabled = false;\n",
              "\n",
              "  const outputElement = document.getElementById(outputId);\n",
              "  outputElement.innerHTML = '';\n",
              "\n",
              "  const pickedPromise = new Promise((resolve) => {\n",
              "    inputElement.addEventListener('change', (e) => {\n",
              "      resolve(e.target.files);\n",
              "    });\n",
              "  });\n",
              "\n",
              "  const cancel = document.createElement('button');\n",
              "  inputElement.parentElement.appendChild(cancel);\n",
              "  cancel.textContent = 'Cancel upload';\n",
              "  const cancelPromise = new Promise((resolve) => {\n",
              "    cancel.onclick = () => {\n",
              "      resolve(null);\n",
              "    };\n",
              "  });\n",
              "\n",
              "  // Wait for the user to pick the files.\n",
              "  const files = yield {\n",
              "    promise: Promise.race([pickedPromise, cancelPromise]),\n",
              "    response: {\n",
              "      action: 'starting',\n",
              "    }\n",
              "  };\n",
              "\n",
              "  cancel.remove();\n",
              "\n",
              "  // Disable the input element since further picks are not allowed.\n",
              "  inputElement.disabled = true;\n",
              "\n",
              "  if (!files) {\n",
              "    return {\n",
              "      response: {\n",
              "        action: 'complete',\n",
              "      }\n",
              "    };\n",
              "  }\n",
              "\n",
              "  for (const file of files) {\n",
              "    const li = document.createElement('li');\n",
              "    li.append(span(file.name, {fontWeight: 'bold'}));\n",
              "    li.append(span(\n",
              "        `(${file.type || 'n/a'}) - ${file.size} bytes, ` +\n",
              "        `last modified: ${\n",
              "            file.lastModifiedDate ? file.lastModifiedDate.toLocaleDateString() :\n",
              "                                    'n/a'} - `));\n",
              "    const percent = span('0% done');\n",
              "    li.appendChild(percent);\n",
              "\n",
              "    outputElement.appendChild(li);\n",
              "\n",
              "    const fileDataPromise = new Promise((resolve) => {\n",
              "      const reader = new FileReader();\n",
              "      reader.onload = (e) => {\n",
              "        resolve(e.target.result);\n",
              "      };\n",
              "      reader.readAsArrayBuffer(file);\n",
              "    });\n",
              "    // Wait for the data to be ready.\n",
              "    let fileData = yield {\n",
              "      promise: fileDataPromise,\n",
              "      response: {\n",
              "        action: 'continue',\n",
              "      }\n",
              "    };\n",
              "\n",
              "    // Use a chunked sending to avoid message size limits. See b/62115660.\n",
              "    let position = 0;\n",
              "    do {\n",
              "      const length = Math.min(fileData.byteLength - position, MAX_PAYLOAD_SIZE);\n",
              "      const chunk = new Uint8Array(fileData, position, length);\n",
              "      position += length;\n",
              "\n",
              "      const base64 = btoa(String.fromCharCode.apply(null, chunk));\n",
              "      yield {\n",
              "        response: {\n",
              "          action: 'append',\n",
              "          file: file.name,\n",
              "          data: base64,\n",
              "        },\n",
              "      };\n",
              "\n",
              "      let percentDone = fileData.byteLength === 0 ?\n",
              "          100 :\n",
              "          Math.round((position / fileData.byteLength) * 100);\n",
              "      percent.textContent = `${percentDone}% done`;\n",
              "\n",
              "    } while (position < fileData.byteLength);\n",
              "  }\n",
              "\n",
              "  // All done.\n",
              "  yield {\n",
              "    response: {\n",
              "      action: 'complete',\n",
              "    }\n",
              "  };\n",
              "}\n",
              "\n",
              "scope.google = scope.google || {};\n",
              "scope.google.colab = scope.google.colab || {};\n",
              "scope.google.colab._files = {\n",
              "  _uploadFiles,\n",
              "  _uploadFilesContinue,\n",
              "};\n",
              "})(self);\n",
              "</script> "
            ]
          },
          "metadata": {}
        },
        {
          "output_type": "stream",
          "name": "stdout",
          "text": [
            "Saving kaggle.json to kaggle.json\n",
            "\n",
            "'kaggle.json' başarıyla yüklendi.\n"
          ]
        }
      ],
      "source": [
        "\n",
        "print(\"Adım 1: Kurulumlar yapılıyor...\")\n",
        "!pip install opendatasets --upgrade --quiet\n",
        "!pip install tensorflow --quiet\n",
        "\n",
        "import opendatasets as od\n",
        "import os\n",
        "import shutil\n",
        "import numpy as np\n",
        "import tensorflow as tf\n",
        "from tensorflow.keras.preprocessing.image import ImageDataGenerator\n",
        "from tensorflow.keras.models import Sequential\n",
        "from tensorflow.keras.layers import Conv2D, MaxPooling2D, Flatten, Dense, Dropout, BatchNormalization\n",
        "from tensorflow.keras.optimizers import Adam\n",
        "from google.colab import files\n",
        "from tensorflow.keras.preprocessing import image\n",
        "import matplotlib.pyplot as plt\n",
        "import matplotlib.image as mpimg\n",
        "import pandas as pd\n",
        "\n",
        "print(\"\\nLütfen Kaggle API anahtarınızı (kaggle.json) yükleyin.\")\n",
        "uploaded = files.upload()\n",
        "\n",
        "if 'kaggle.json' in uploaded:\n",
        "    print(\"\\n'kaggle.json' başarıyla yüklendi.\")\n",
        "\n",
        "    if not os.path.exists('/root/.kaggle'):\n",
        "        os.makedirs('/root/.kaggle')\n",
        "    shutil.move('kaggle.json', '/root/.kaggle/kaggle.json')\n",
        "    os.chmod('/root/.kaggle/kaggle.json', 600)\n",
        "else:\n",
        "    raise ValueError(\"HATA: Lütfen 'kaggle.json' dosyasını yüklediğinizden emin olun.\")"
      ]
    },
    {
      "cell_type": "markdown",
      "source": [
        "# =====================================\n",
        "# Adım 2: Kaggle Veri Setini İndirme\n",
        "# ====================================="
      ],
      "metadata": {
        "id": "N-2eOsu_TBVK"
      }
    },
    {
      "cell_type": "code",
      "source": [
        "print(\"Adım 2: Veri seti indiriliyor...\")\n",
        "\n",
        "dataset_url = \"https://www.kaggle.com/datasets/navoneel/brain-mri-images-for-brain-tumor-detection\"\n",
        "od.download(dataset_url, data_dir=\"brain_mri_dataset\")\n",
        "\n",
        "print(\"Veri seti indirildi.\")\n"
      ],
      "metadata": {
        "colab": {
          "base_uri": "https://localhost:8080/"
        },
        "id": "oMHm21eYR8-k",
        "outputId": "48142be9-27cc-4e5d-f9c8-7f341e9194e3"
      },
      "execution_count": 2,
      "outputs": [
        {
          "output_type": "stream",
          "name": "stdout",
          "text": [
            "Adım 2: Veri seti indiriliyor...\n",
            "Skipping, found downloaded files in \"brain_mri_dataset/brain-mri-images-for-brain-tumor-detection\" (use force=True to force download)\n",
            "Veri seti indirildi.\n"
          ]
        }
      ]
    },
    {
      "cell_type": "markdown",
      "source": [
        "=================================================\n",
        "\n",
        "Adım 3:Veri Seti Klasör yapısını ve sınıf başına kaç görsel olduğunu gösterelim\n",
        "\n",
        "=================================================\n"
      ],
      "metadata": {
        "id": "E20kTFA9TOAq"
      }
    },
    {
      "cell_type": "code",
      "source": [
        "import os\n",
        "\n",
        "data_path = \"/content/brain_mri_dataset/brain-mri-images-for-brain-tumor-detection\"\n",
        "\n",
        "for root, dirs, files in os.walk(data_path):\n",
        "    level = root.replace(data_path, '').count(os.sep)\n",
        "    indent = ' ' * 4 * level\n",
        "    print(f\"{indent}{os.path.basename(root)}/\")\n",
        "    subindent = ' ' * 4 * (level + 1)\n",
        "    for f in files[:5]:  # İlk 5 dosyayı göster\n",
        "        print(f\"{subindent}{f}\")\n",
        "    if len(files) > 5:\n",
        "        print(f\"{subindent}... ({len(files)} dosya)\")\n",
        "\n",
        "print(\"\\nSınıf başına dosya sayısı:\")\n",
        "for class_name in os.listdir(os.path.join(data_path, '/content/brain_mri_dataset/brain-mri-images-for-brain-tumor-detection/brain_tumor_dataset')):\n",
        "    class_dir = os.path.join(data_path, '/content/brain_mri_dataset/brain-mri-images-for-brain-tumor-detection/brain_tumor_dataset', class_name)\n",
        "    if os.path.isdir(class_dir):\n",
        "        count = len(os.listdir(class_dir))\n",
        "        print(f\"{class_name}: {count} adet\")\n"
      ],
      "metadata": {
        "colab": {
          "base_uri": "https://localhost:8080/"
        },
        "id": "Y3HDsph3R-R3",
        "outputId": "06a1809e-5231-4de4-d52d-274299e26d12"
      },
      "execution_count": 20,
      "outputs": [
        {
          "output_type": "stream",
          "name": "stdout",
          "text": [
            "brain-mri-images-for-brain-tumor-detection/\n",
            "    no/\n",
            "        33 no.jpg\n",
            "        no 9.png\n",
            "        No17.jpg\n",
            "        11 no.jpg\n",
            "        no 3.jpg\n",
            "        ... (98 dosya)\n",
            "    yes/\n",
            "        Y163.JPG\n",
            "        Y46.jpg\n",
            "        Y107.jpg\n",
            "        Y23.JPG\n",
            "        Y59.JPG\n",
            "        ... (155 dosya)\n",
            "    brain_tumor_dataset/\n",
            "        no/\n",
            "            33 no.jpg\n",
            "            no 9.png\n",
            "            No17.jpg\n",
            "            11 no.jpg\n",
            "            no 3.jpg\n",
            "            ... (98 dosya)\n",
            "        yes/\n",
            "            Y163.JPG\n",
            "            Y46.jpg\n",
            "            Y107.jpg\n",
            "            Y23.JPG\n",
            "            Y59.JPG\n",
            "            ... (155 dosya)\n",
            "\n",
            "Sınıf başına dosya sayısı:\n",
            "no: 98 adet\n",
            "yes: 155 adet\n"
          ]
        }
      ]
    },
    {
      "cell_type": "markdown",
      "source": [
        "=================================================\n",
        "\n",
        "Adım 3:Veri yolları ve klasörler\n",
        "\n",
        "=================================================\n",
        "\n",
        "Önceki denemelerimde Veri sızıntısı olduğu için,\n",
        "\n",
        "veri sızıntılarını düzeltme kodu ekledim.\n",
        "\n",
        "Daha sonra verileri yükleyip doğru klasörlere böldüm\n"
      ],
      "metadata": {
        "id": "C0IuAkE-UPsf"
      }
    },
    {
      "cell_type": "code",
      "source": [
        "import shutil\n",
        "import os\n",
        "from sklearn.model_selection import train_test_split\n",
        "\n",
        "base_dir = \"/content/brain_mri_dataset/brain-mri-images-for-brain-tumor-detection/brain_tumor_dataset\"\n",
        "train_dir = \"data/train\"\n",
        "val_dir = \"data/val\"\n",
        "test_dir = \"data/test\"\n",
        "\n",
        "for d in [train_dir, val_dir, test_dir]:\n",
        "    os.makedirs(os.path.join(d, \"yes\"), exist_ok=True)\n",
        "    os.makedirs(os.path.join(d, \"no\"), exist_ok=True)\n",
        "\n",
        "yes_images = os.listdir(os.path.join(base_dir, \"yes\"))\n",
        "no_images = os.listdir(os.path.join(base_dir, \"no\"))\n",
        "\n",
        "yes_train, yes_temp = train_test_split(yes_images, test_size=0.3, random_state=42)\n",
        "yes_val, yes_test = train_test_split(yes_temp, test_size=0.5, random_state=42)\n",
        "no_train, no_temp = train_test_split(no_images, test_size=0.3, random_state=42)\n",
        "no_val, no_test = train_test_split(no_temp, test_size=0.5, random_state=42)\n",
        "\n",
        "def fix_data_leakage():\n",
        "    \"\"\"Veri sızıntısını düzelt\"\"\"\n",
        "    import shutil\n",
        "    import os\n",
        "\n",
        "    if os.path.exists(\"data\"):\n",
        "        shutil.rmtree(\"data\")\n",
        "\n",
        "    base_dir = \"/content/brain_mri_dataset/brain-mri-images-for-brain-tumor-detection/brain_tumor_dataset\"\n",
        "    train_dir = \"data/train\"\n",
        "    val_dir = \"data/val\"\n",
        "    test_dir = \"data/test\"\n",
        "\n",
        "    for d in [train_dir, val_dir, test_dir]:\n",
        "        os.makedirs(os.path.join(d, \"yes\"), exist_ok=True)\n",
        "        os.makedirs(os.path.join(d, \"no\"), exist_ok=True)\n",
        "\n",
        "    yes_images = os.listdir(os.path.join(base_dir, \"yes\"))\n",
        "    no_images = os.listdir(os.path.join(base_dir, \"no\"))\n",
        "\n",
        "    yes_train, yes_temp = train_test_split(yes_images, test_size=0.3, random_state=42)\n",
        "    yes_val, yes_test = train_test_split(yes_temp, test_size=0.5, random_state=42)\n",
        "\n",
        "    no_train, no_temp = train_test_split(no_images, test_size=0.3, random_state=42)\n",
        "    no_val, no_test = train_test_split(no_temp, test_size=0.5, random_state=42)\n",
        "\n",
        "    def safe_copy_images(img_list, src_folder, dest_folder):\n",
        "        for img in img_list:\n",
        "            src_path = os.path.join(src_folder, img)\n",
        "            dest_path = os.path.join(dest_folder, img)\n",
        "            if os.path.exists(src_path):\n",
        "                shutil.copy(src_path, dest_path)\n",
        "\n",
        "    safe_copy_images(yes_train, os.path.join(base_dir, \"yes\"), os.path.join(train_dir, \"yes\"))\n",
        "    safe_copy_images(yes_val, os.path.join(base_dir, \"yes\"), os.path.join(val_dir, \"yes\"))\n",
        "    safe_copy_images(yes_test, os.path.join(base_dir, \"yes\"), os.path.join(test_dir, \"yes\"))\n",
        "\n",
        "    safe_copy_images(no_train, os.path.join(base_dir, \"no\"), os.path.join(train_dir, \"no\"))\n",
        "    safe_copy_images(no_val, os.path.join(base_dir, \"no\"), os.path.join(val_dir, \"no\"))\n",
        "    safe_copy_images(no_test, os.path.join(base_dir, \"no\"), os.path.join(test_dir, \"no\"))\n",
        "\n",
        "    print(\"✅ Veri sızıntısı düzeltildi!\")\n",
        "\n",
        "fix_data_leakage()"
      ],
      "metadata": {
        "colab": {
          "base_uri": "https://localhost:8080/"
        },
        "id": "LlQ9oneHTfr0",
        "outputId": "78f4b3d1-0a6b-4676-9386-d511ae08d927"
      },
      "execution_count": 21,
      "outputs": [
        {
          "output_type": "stream",
          "name": "stdout",
          "text": [
            "✅ Veri sızıntısı düzeltildi!\n"
          ]
        }
      ]
    },
    {
      "cell_type": "markdown",
      "source": [
        "````markdown\n",
        "=================================================\n",
        "\n",
        "Adım 4:Veri Ön İşleme ve Augmentation\n",
        "\n",
        "=================================================\n",
        "```python\n",
        "# Görüntü boyutları ve batch ayarları\n",
        "IMG_SIZE = 224\n",
        "BATCH_SIZE = 32\n",
        "\n",
        "# Data augmentation sadece eğitim verisi için uygulanır\n",
        "# Validation ve test verileri sadece normalize edilir"
      ],
      "metadata": {
        "id": "1DLN8K0bWET5"
      }
    },
    {
      "cell_type": "code",
      "source": [
        "IMG_SIZE = 224\n",
        "BATCH_SIZE = 32\n",
        "from tensorflow.keras.applications.efficientnet import preprocess_input\n",
        "\n",
        "train_datagen = ImageDataGenerator(\n",
        "    preprocessing_function=preprocess_input,\n",
        "    rotation_range=25,\n",
        "    width_shift_range=0.2,\n",
        "    height_shift_range=0.2,\n",
        "    zoom_range=0.2,\n",
        "    horizontal_flip=True,\n",
        "    brightness_range=[0.8,1.2]\n",
        ")\n",
        "val_datagen = ImageDataGenerator(preprocessing_function=preprocess_input)\n",
        "test_datagen = ImageDataGenerator(preprocessing_function=preprocess_input)\n",
        "\n",
        "\n",
        "train_dir = \"data/train\"\n",
        "val_dir = \"data/val\"\n",
        "test_dir = \"data/test\"\n",
        "\n",
        "\n",
        "train_gen = train_datagen.flow_from_directory(\n",
        "    train_dir,\n",
        "    target_size=(IMG_SIZE, IMG_SIZE),\n",
        "    batch_size=BATCH_SIZE,\n",
        "    shuffle=True,\n",
        "    seed=42,\n",
        "    class_mode='binary'\n",
        ")\n",
        "\n",
        "val_gen = val_datagen.flow_from_directory(\n",
        "    val_dir,\n",
        "    target_size=(IMG_SIZE, IMG_SIZE),\n",
        "    batch_size=BATCH_SIZE,\n",
        "    class_mode='binary',\n",
        "    shuffle=False\n",
        ")\n",
        "\n",
        "test_gen = test_datagen.flow_from_directory(\n",
        "    test_dir,\n",
        "    target_size=(IMG_SIZE, IMG_SIZE),\n",
        "    batch_size=1,\n",
        "    class_mode='binary',\n",
        "    shuffle=False\n",
        ")"
      ],
      "metadata": {
        "colab": {
          "base_uri": "https://localhost:8080/"
        },
        "id": "e-J1-wVnbvdN",
        "outputId": "ba8851b4-69b9-4f23-a8fa-03b7054b52ad"
      },
      "execution_count": 22,
      "outputs": [
        {
          "output_type": "stream",
          "name": "stdout",
          "text": [
            "Found 176 images belonging to 2 classes.\n",
            "Found 38 images belonging to 2 classes.\n",
            "Found 39 images belonging to 2 classes.\n"
          ]
        }
      ]
    },
    {
      "cell_type": "markdown",
      "source": [
        "# kesin eşitlik kontrolü"
      ],
      "metadata": {
        "id": "nCmCsh3nlZyE"
      }
    },
    {
      "cell_type": "code",
      "source": [
        "print(\"train:\", train_gen.class_indices)\n",
        "print(\"val:  \", val_gen.class_indices)\n",
        "print(\"test: \", test_gen.class_indices)\n",
        "assert train_gen.class_indices == val_gen.class_indices == test_gen.class_indices, \"class_indices farklı!\"\n"
      ],
      "metadata": {
        "colab": {
          "base_uri": "https://localhost:8080/"
        },
        "id": "masctpE4a63K",
        "outputId": "f39a9a4b-e2f4-4c73-d887-42830ca25122"
      },
      "execution_count": 23,
      "outputs": [
        {
          "output_type": "stream",
          "name": "stdout",
          "text": [
            "train: {'no': 0, 'yes': 1}\n",
            "val:   {'no': 0, 'yes': 1}\n",
            "test:  {'no': 0, 'yes': 1}\n"
          ]
        }
      ]
    },
    {
      "cell_type": "markdown",
      "source": [
        "Ayrıca klasörleri saydım, kontrol amaçlı"
      ],
      "metadata": {
        "id": "p3qdJfR1lks0"
      }
    },
    {
      "cell_type": "code",
      "source": [
        "from collections import Counter\n",
        "print(\"Train counts:\", Counter(train_gen.classes))\n",
        "print(\"Val counts:  \", Counter(val_gen.classes))\n",
        "print(\"Test counts: \", Counter(test_gen.classes))\n",
        "\n",
        "# Ayrıca klasörleri say:\n",
        "import os\n",
        "for split in [\"data/train\",\"data/val\",\"data/test\"]:\n",
        "    print(split, {d: len(os.listdir(os.path.join(split,d))) for d in os.listdir(split)})\n"
      ],
      "metadata": {
        "colab": {
          "base_uri": "https://localhost:8080/"
        },
        "id": "7ZD6zfjxbEXe",
        "outputId": "51731f20-e879-4672-835e-e017c0ca129c"
      },
      "execution_count": 24,
      "outputs": [
        {
          "output_type": "stream",
          "name": "stdout",
          "text": [
            "Train counts: Counter({np.int32(1): 108, np.int32(0): 68})\n",
            "Val counts:   Counter({np.int32(1): 23, np.int32(0): 15})\n",
            "Test counts:  Counter({np.int32(1): 24, np.int32(0): 15})\n",
            "data/train {'no': 68, 'yes': 108}\n",
            "data/val {'no': 15, 'yes': 23}\n",
            "data/test {'no': 15, 'yes': 24}\n"
          ]
        }
      ]
    },
    {
      "cell_type": "markdown",
      "source": [
        "````markdown\n",
        "=================================================\n",
        "\n",
        "Adım 5:Veri Generator Kontrol Fonksiyonu\n",
        "\n",
        "=================================================\n",
        "Bu fonksiyon veri generator'larının doğru çalıştığını kontrol eder.\n",
        "\n",
        "## Ana İşlevler\n",
        "- Data augmentation ayarlarını test etme\n",
        "- Veri şekillerini ve sınıf dağılımını kontrol etme\n",
        "- Batch işleme sürecini doğrulama\n",
        "\n",
        "```python\n",
        "# Kullanım\n",
        "train_gen, val_gen, test_gen = check_data_generators()"
      ],
      "metadata": {
        "id": "--aGXjliWoj1"
      }
    },
    {
      "cell_type": "code",
      "source": [
        "def check_data_generators():\n",
        "    \"\"\"Data generator'ları kontrol et\"\"\"\n",
        "    print(\"🔍 DATA GENERATOR KONTROLÜ:\")\n",
        "\n",
        "    # Generator'ları yeniden oluştur\n",
        "    from tensorflow.keras.applications.efficientnet import preprocess_input\n",
        "\n",
        "    train_datagen = ImageDataGenerator(\n",
        "        preprocessing_function=preprocess_input,\n",
        "        rotation_range=25,\n",
        "        width_shift_range=0.2,\n",
        "        height_shift_range=0.2,\n",
        "        zoom_range=0.2,\n",
        "        horizontal_flip=True,\n",
        "        brightness_range=[0.8,1.2]\n",
        "    )\n",
        "    val_datagen = ImageDataGenerator(preprocessing_function=preprocess_input)\n",
        "    test_datagen = ImageDataGenerator(preprocessing_function=preprocess_input)\n",
        "\n",
        "\n",
        "    # Batch size'ı küçült (debug için)\n",
        "    BATCH_SIZE = 16\n",
        "    IMG_SIZE = 224\n",
        "\n",
        "    train_gen = train_datagen.flow_from_directory(\n",
        "        \"data/train\",\n",
        "        target_size=(IMG_SIZE, IMG_SIZE),\n",
        "        batch_size=BATCH_SIZE,\n",
        "        class_mode='binary',\n",
        "        shuffle=True\n",
        "    )\n",
        "\n",
        "    val_gen = val_datagen.flow_from_directory(\n",
        "        \"data/val\",\n",
        "        target_size=(IMG_SIZE, IMG_SIZE),\n",
        "        batch_size=BATCH_SIZE,\n",
        "        class_mode='binary',\n",
        "        shuffle=False\n",
        "    )\n",
        "\n",
        "    test_gen = test_datagen.flow_from_directory(\n",
        "        \"data/test\",\n",
        "        target_size=(IMG_SIZE, IMG_SIZE),\n",
        "        batch_size=1,\n",
        "        class_mode='binary',\n",
        "        shuffle=False\n",
        "    )\n",
        "\n",
        "    print(f\"✅ Train sınıfları: {train_gen.class_indices}\")\n",
        "    print(f\"✅ Validation sınıfları: {val_gen.class_indices}\")\n",
        "    print(f\"✅ Train örnek sayısı: {train_gen.samples}\")\n",
        "    print(f\"✅ Validation örnek sayısı: {val_gen.samples}\")\n",
        "\n",
        "    # Sınıf isimlerini kaydet\n",
        "    class_names = list(train_gen.class_indices.keys())\n",
        "    print(\"Sınıf isimleri:\", class_names)  # ['no', 'yes']\n",
        "\n",
        "\n",
        "    # Bir batch göster\n",
        "    x_batch, y_batch = next(train_gen)\n",
        "    print(f\"✅ Batch shape: {x_batch.shape}\")\n",
        "    print(f\"✅ Batch labels: {y_batch[:10]}\")\n",
        "\n",
        "    return train_gen, val_gen, test_gen\n",
        "\n",
        "# Generator'ları kontrol et\n",
        "train_gen, val_gen, test_gen = check_data_generators()"
      ],
      "metadata": {
        "colab": {
          "base_uri": "https://localhost:8080/"
        },
        "id": "7wMtTNe5b67G",
        "outputId": "5a97a36c-f5f3-4c21-ade1-32a6be5b522e"
      },
      "execution_count": 25,
      "outputs": [
        {
          "output_type": "stream",
          "name": "stdout",
          "text": [
            "🔍 DATA GENERATOR KONTROLÜ:\n",
            "Found 176 images belonging to 2 classes.\n",
            "Found 38 images belonging to 2 classes.\n",
            "Found 39 images belonging to 2 classes.\n",
            "✅ Train sınıfları: {'no': 0, 'yes': 1}\n",
            "✅ Validation sınıfları: {'no': 0, 'yes': 1}\n",
            "✅ Train örnek sayısı: 176\n",
            "✅ Validation örnek sayısı: 38\n",
            "Sınıf isimleri: ['no', 'yes']\n",
            "✅ Batch shape: (16, 224, 224, 3)\n",
            "✅ Batch labels: [1. 1. 1. 1. 1. 1. 0. 0. 0. 1.]\n"
          ]
        }
      ]
    },
    {
      "cell_type": "markdown",
      "source": [
        "=================================================\n",
        "\n",
        "Adım 6: Model - WfficientNetB0 + fine-tuning\n",
        "\n",
        "=================================================\n",
        "\n",
        "## Ana İşlevler\n",
        "- fıne tuning i açık tuttuk\n",
        "- Güncel modellerden olan EfficientNetB0 ile modeli oluşturduk\n",
        "- CallBacks ekledim"
      ],
      "metadata": {
        "id": "HUdeMThvarIV"
      }
    },
    {
      "cell_type": "code",
      "source": [
        "\n",
        "from tensorflow.keras.applications import EfficientNetB0\n",
        "from tensorflow.keras.layers import Dense, Dropout, GlobalAveragePooling2D, BatchNormalization\n",
        "from tensorflow.keras.models import Model\n",
        "from tensorflow.keras.optimizers import Adam\n",
        "from tensorflow.keras.callbacks import EarlyStopping, ReduceLROnPlateau\n",
        "\n",
        "base_model = EfficientNetB0(weights='imagenet', include_top=False, input_shape=(IMG_SIZE, IMG_SIZE, 3))\n",
        "base_model.trainable = True\n",
        "x = base_model.output\n",
        "x = GlobalAveragePooling2D()(x)\n",
        "x = BatchNormalization()(x)\n",
        "x = Dropout(0.5)(x)\n",
        "predictions = Dense(1, activation='sigmoid')(x)\n",
        "\n",
        "model = Model(inputs=base_model.input, outputs=predictions)\n",
        "\n",
        "model.compile(\n",
        "    optimizer=Adam(learning_rate=1e-4),\n",
        "    loss='binary_crossentropy',\n",
        "    metrics=['accuracy', 'precision', 'recall']\n",
        ")\n",
        "\n",
        "early_stop = EarlyStopping(monitor='val_loss', patience=5, restore_best_weights=True)\n",
        "reduce_lr = ReduceLROnPlateau(monitor='val_loss', factor=0.5, patience=3, verbose=2)\n"
      ],
      "metadata": {
        "id": "36OOH_YyVc_G"
      },
      "execution_count": 26,
      "outputs": []
    },
    {
      "cell_type": "markdown",
      "source": [
        "=================================================\n",
        "\n",
        "Adım 7: Model Eğitimi\n",
        "\n",
        "=================================================\n",
        "\n",
        "Ana İşlevlev\n",
        "Sınıf ağırlıklarını hesaplayarak\n",
        "\n",
        "20 Epochs'luk bir eğitim yaptım\n"
      ],
      "metadata": {
        "id": "vnrMRFzAdH9d"
      }
    },
    {
      "cell_type": "code",
      "source": [
        "from sklearn.utils.class_weight import compute_class_weight\n",
        "import numpy as np\n",
        "\n",
        "train_gen.reset()\n",
        "val_gen.reset()\n",
        "val_steps = int(np.ceil(val_gen.samples / val_gen.batch_size))\n",
        "\n",
        "y_train = train_gen.classes\n",
        "\n",
        "from sklearn.utils.class_weight import compute_class_weight\n",
        "classes = np.unique(y_train)\n",
        "cw = compute_class_weight('balanced', classes=classes, y=y_train)\n",
        "class_weight_dict = {int(classes[i]): float(cw[i]) for i in range(len(classes))}\n",
        "print(\"class_weight_dict:\", class_weight_dict)\n",
        "\n",
        "class_weight_dict = dict(enumerate(cw))\n",
        "\n",
        "model.compile(\n",
        "    optimizer=Adam(learning_rate=1e-4),\n",
        "    loss='binary_crossentropy',\n",
        "    metrics=['accuracy', 'precision', 'recall']\n",
        ")\n",
        "\n",
        "print(\"\\nAdım 7: Model Eğitimi yapılıyor...\")\n",
        "\n",
        "history = model.fit(\n",
        "    train_gen,\n",
        "    steps_per_epoch=train_gen.samples // train_gen.batch_size,\n",
        "    epochs=20,\n",
        "    validation_data=val_gen,\n",
        "    validation_steps=val_gen.samples // val_gen.batch_size,\n",
        "    callbacks=[early_stop, reduce_lr],\n",
        "    class_weight=class_weight_dict\n",
        ")\n",
        "\n",
        "print(\"Model eğitimi tamamlandı.\")"
      ],
      "metadata": {
        "id": "7WyxAvP2fa0n",
        "colab": {
          "base_uri": "https://localhost:8080/"
        },
        "outputId": "4b639ab2-7b71-4605-ae76-980f69ba1bc7"
      },
      "execution_count": 27,
      "outputs": [
        {
          "output_type": "stream",
          "name": "stdout",
          "text": [
            "class_weight_dict: {0: 1.2941176470588236, 1: 0.8148148148148148}\n",
            "\n",
            "Adım 7: Model Eğitimi yapılıyor...\n"
          ]
        },
        {
          "output_type": "stream",
          "name": "stderr",
          "text": [
            "/usr/local/lib/python3.12/dist-packages/keras/src/trainers/data_adapters/py_dataset_adapter.py:121: UserWarning: Your `PyDataset` class should call `super().__init__(**kwargs)` in its constructor. `**kwargs` can include `workers`, `use_multiprocessing`, `max_queue_size`. Do not pass these arguments to `fit()`, as they will be ignored.\n",
            "  self._warn_if_super_not_called()\n"
          ]
        },
        {
          "output_type": "stream",
          "name": "stdout",
          "text": [
            "Epoch 1/20\n",
            "\u001b[1m11/11\u001b[0m \u001b[32m━━━━━━━━━━━━━━━━━━━━\u001b[0m\u001b[37m\u001b[0m \u001b[1m130s\u001b[0m 6s/step - accuracy: 0.5243 - loss: 1.1881 - precision: 0.6109 - recall: 0.5473 - val_accuracy: 0.5625 - val_loss: 0.6960 - val_precision: 0.8000 - val_recall: 0.2353 - learning_rate: 1.0000e-04\n",
            "Epoch 2/20\n",
            "\u001b[1m11/11\u001b[0m \u001b[32m━━━━━━━━━━━━━━━━━━━━\u001b[0m\u001b[37m\u001b[0m \u001b[1m72s\u001b[0m 5s/step - accuracy: 0.6437 - loss: 0.7300 - precision: 0.7942 - recall: 0.6165 - val_accuracy: 0.5625 - val_loss: 0.6754 - val_precision: 0.8000 - val_recall: 0.2353 - learning_rate: 1.0000e-04\n",
            "Epoch 3/20\n",
            "\u001b[1m11/11\u001b[0m \u001b[32m━━━━━━━━━━━━━━━━━━━━\u001b[0m\u001b[37m\u001b[0m \u001b[1m80s\u001b[0m 5s/step - accuracy: 0.6775 - loss: 0.7011 - precision: 0.7521 - recall: 0.6922 - val_accuracy: 0.5625 - val_loss: 0.6465 - val_precision: 0.8000 - val_recall: 0.2353 - learning_rate: 1.0000e-04\n",
            "Epoch 4/20\n",
            "\u001b[1m11/11\u001b[0m \u001b[32m━━━━━━━━━━━━━━━━━━━━\u001b[0m\u001b[37m\u001b[0m \u001b[1m58s\u001b[0m 5s/step - accuracy: 0.7381 - loss: 0.5728 - precision: 0.8486 - recall: 0.6794 - val_accuracy: 0.6250 - val_loss: 0.6071 - val_precision: 1.0000 - val_recall: 0.2941 - learning_rate: 1.0000e-04\n",
            "Epoch 5/20\n",
            "\u001b[1m11/11\u001b[0m \u001b[32m━━━━━━━━━━━━━━━━━━━━\u001b[0m\u001b[37m\u001b[0m \u001b[1m57s\u001b[0m 5s/step - accuracy: 0.8174 - loss: 0.4177 - precision: 0.8880 - recall: 0.8151 - val_accuracy: 0.6562 - val_loss: 0.5898 - val_precision: 1.0000 - val_recall: 0.3529 - learning_rate: 1.0000e-04\n",
            "Epoch 6/20\n",
            "\u001b[1m11/11\u001b[0m \u001b[32m━━━━━━━━━━━━━━━━━━━━\u001b[0m\u001b[37m\u001b[0m \u001b[1m82s\u001b[0m 5s/step - accuracy: 0.8637 - loss: 0.3145 - precision: 0.8904 - recall: 0.8709 - val_accuracy: 0.6562 - val_loss: 0.5445 - val_precision: 1.0000 - val_recall: 0.3529 - learning_rate: 1.0000e-04\n",
            "Epoch 7/20\n",
            "\u001b[1m11/11\u001b[0m \u001b[32m━━━━━━━━━━━━━━━━━━━━\u001b[0m\u001b[37m\u001b[0m \u001b[1m82s\u001b[0m 8s/step - accuracy: 0.8615 - loss: 0.3107 - precision: 0.9103 - recall: 0.8635 - val_accuracy: 0.7188 - val_loss: 0.5075 - val_precision: 1.0000 - val_recall: 0.4706 - learning_rate: 1.0000e-04\n",
            "Epoch 8/20\n",
            "\u001b[1m11/11\u001b[0m \u001b[32m━━━━━━━━━━━━━━━━━━━━\u001b[0m\u001b[37m\u001b[0m \u001b[1m82s\u001b[0m 8s/step - accuracy: 0.8818 - loss: 0.3088 - precision: 0.9408 - recall: 0.8570 - val_accuracy: 0.7500 - val_loss: 0.4487 - val_precision: 1.0000 - val_recall: 0.5294 - learning_rate: 1.0000e-04\n",
            "Epoch 9/20\n",
            "\u001b[1m11/11\u001b[0m \u001b[32m━━━━━━━━━━━━━━━━━━━━\u001b[0m\u001b[37m\u001b[0m \u001b[1m59s\u001b[0m 5s/step - accuracy: 0.9045 - loss: 0.2270 - precision: 0.9495 - recall: 0.8849 - val_accuracy: 0.7812 - val_loss: 0.4193 - val_precision: 1.0000 - val_recall: 0.5882 - learning_rate: 1.0000e-04\n",
            "Epoch 10/20\n",
            "\u001b[1m11/11\u001b[0m \u001b[32m━━━━━━━━━━━━━━━━━━━━\u001b[0m\u001b[37m\u001b[0m \u001b[1m81s\u001b[0m 8s/step - accuracy: 0.8768 - loss: 0.3197 - precision: 0.9417 - recall: 0.8558 - val_accuracy: 0.8125 - val_loss: 0.4233 - val_precision: 1.0000 - val_recall: 0.6471 - learning_rate: 1.0000e-04\n",
            "Epoch 11/20\n",
            "\u001b[1m11/11\u001b[0m \u001b[32m━━━━━━━━━━━━━━━━━━━━\u001b[0m\u001b[37m\u001b[0m \u001b[1m55s\u001b[0m 5s/step - accuracy: 0.8179 - loss: 0.3735 - precision: 0.8297 - recall: 0.8310 - val_accuracy: 0.8750 - val_loss: 0.4237 - val_precision: 1.0000 - val_recall: 0.7647 - learning_rate: 1.0000e-04\n",
            "Epoch 12/20\n",
            "\u001b[1m11/11\u001b[0m \u001b[32m━━━━━━━━━━━━━━━━━━━━\u001b[0m\u001b[37m\u001b[0m \u001b[1m82s\u001b[0m 5s/step - accuracy: 0.9259 - loss: 0.1718 - precision: 0.9434 - recall: 0.9205 - val_accuracy: 0.8750 - val_loss: 0.3999 - val_precision: 0.9333 - val_recall: 0.8235 - learning_rate: 1.0000e-04\n",
            "Epoch 13/20\n",
            "\u001b[1m11/11\u001b[0m \u001b[32m━━━━━━━━━━━━━━━━━━━━\u001b[0m\u001b[37m\u001b[0m \u001b[1m81s\u001b[0m 8s/step - accuracy: 0.9293 - loss: 0.2054 - precision: 0.9950 - recall: 0.8949 - val_accuracy: 0.8438 - val_loss: 0.3654 - val_precision: 0.8750 - val_recall: 0.8235 - learning_rate: 1.0000e-04\n",
            "Epoch 14/20\n",
            "\u001b[1m11/11\u001b[0m \u001b[32m━━━━━━━━━━━━━━━━━━━━\u001b[0m\u001b[37m\u001b[0m \u001b[1m83s\u001b[0m 8s/step - accuracy: 0.9283 - loss: 0.1990 - precision: 0.9326 - recall: 0.9405 - val_accuracy: 0.8438 - val_loss: 0.3494 - val_precision: 0.8750 - val_recall: 0.8235 - learning_rate: 1.0000e-04\n",
            "Epoch 15/20\n",
            "\u001b[1m11/11\u001b[0m \u001b[32m━━━━━━━━━━━━━━━━━━━━\u001b[0m\u001b[37m\u001b[0m \u001b[1m81s\u001b[0m 8s/step - accuracy: 0.9620 - loss: 0.1433 - precision: 0.9836 - recall: 0.9535 - val_accuracy: 0.8438 - val_loss: 0.3391 - val_precision: 0.8750 - val_recall: 0.8235 - learning_rate: 1.0000e-04\n",
            "Epoch 16/20\n",
            "\u001b[1m11/11\u001b[0m \u001b[32m━━━━━━━━━━━━━━━━━━━━\u001b[0m\u001b[37m\u001b[0m \u001b[1m82s\u001b[0m 8s/step - accuracy: 0.9348 - loss: 0.1915 - precision: 0.9683 - recall: 0.9275 - val_accuracy: 0.8438 - val_loss: 0.3320 - val_precision: 0.8750 - val_recall: 0.8235 - learning_rate: 1.0000e-04\n",
            "Epoch 17/20\n",
            "\u001b[1m11/11\u001b[0m \u001b[32m━━━━━━━━━━━━━━━━━━━━\u001b[0m\u001b[37m\u001b[0m \u001b[1m55s\u001b[0m 5s/step - accuracy: 0.9297 - loss: 0.1391 - precision: 0.9925 - recall: 0.8980 - val_accuracy: 0.8438 - val_loss: 0.3255 - val_precision: 0.8750 - val_recall: 0.8235 - learning_rate: 1.0000e-04\n",
            "Epoch 18/20\n",
            "\u001b[1m11/11\u001b[0m \u001b[32m━━━━━━━━━━━━━━━━━━━━\u001b[0m\u001b[37m\u001b[0m \u001b[1m54s\u001b[0m 5s/step - accuracy: 0.9467 - loss: 0.1477 - precision: 0.9578 - recall: 0.9572 - val_accuracy: 0.8438 - val_loss: 0.3153 - val_precision: 0.8750 - val_recall: 0.8235 - learning_rate: 1.0000e-04\n",
            "Epoch 19/20\n",
            "\u001b[1m11/11\u001b[0m \u001b[32m━━━━━━━━━━━━━━━━━━━━\u001b[0m\u001b[37m\u001b[0m \u001b[1m142s\u001b[0m 11s/step - accuracy: 0.9583 - loss: 0.1037 - precision: 1.0000 - recall: 0.9317 - val_accuracy: 0.8438 - val_loss: 0.3234 - val_precision: 0.8750 - val_recall: 0.8235 - learning_rate: 1.0000e-04\n",
            "Epoch 20/20\n",
            "\u001b[1m11/11\u001b[0m \u001b[32m━━━━━━━━━━━━━━━━━━━━\u001b[0m\u001b[37m\u001b[0m \u001b[1m82s\u001b[0m 8s/step - accuracy: 0.9617 - loss: 0.1086 - precision: 0.9707 - recall: 0.9633 - val_accuracy: 0.8438 - val_loss: 0.3282 - val_precision: 0.8750 - val_recall: 0.8235 - learning_rate: 1.0000e-04\n",
            "Model eğitimi tamamlandı.\n"
          ]
        }
      ]
    },
    {
      "cell_type": "markdown",
      "source": [
        "# ======================================================================\n",
        "# Adım 8: Gelişmiş Metrikleri Hesaplama ve Yazdırma\n",
        "# ======================================================================\n",
        "\n",
        "## Confusion Matrix , F1 Score , Loss function gibi\n",
        "## Model değerlendirilmesini yapacağım grafikleri oluşturdum"
      ],
      "metadata": {
        "id": "-9cXM3uXd1Ry"
      }
    },
    {
      "cell_type": "code",
      "source": [
        "import numpy as np\n",
        "from sklearn.metrics import classification_report, confusion_matrix\n",
        "import matplotlib.pyplot as plt\n",
        "import seaborn as sns\n",
        "\n",
        "val_gen.reset()\n",
        "\n",
        "val_steps = val_gen.samples // val_gen.batch_size + (val_gen.samples % val_gen.batch_size > 0)\n",
        "\n",
        "predictions = model.predict(val_gen, steps=val_steps)\n",
        "\n",
        "y_true = val_gen.classes\n",
        "\n",
        "\n",
        "y_pred = np.round(predictions).flatten()\n",
        "\n",
        "class_names = list(val_gen.class_indices.keys())\n",
        "\n",
        "print(\"\\n\" + \"=\"*70)\n",
        "print(\"MODEL DEĞERLENDİRME SONUÇLARI (Doğrulama Veri Seti)\")\n",
        "print(\"=\"*70)\n",
        "\n",
        "\n",
        "print(\"Sınıflandırma Raporu (Precision, Recall, F1-Score):\")\n",
        "print(classification_report(y_true, y_pred, target_names=class_names))\n",
        "\n",
        "print(\"-\" * 70)\n",
        "\n",
        "conf_matrix = confusion_matrix(y_true, y_pred)\n",
        "\n",
        "plt.figure(figsize=(8, 6))\n",
        "sns.heatmap(\n",
        "    conf_matrix,\n",
        "    annot=True,\n",
        "    fmt=\"d\",\n",
        "    cmap=\"Blues\",\n",
        "    xticklabels=class_names,\n",
        "    yticklabels=class_names\n",
        ")\n",
        "plt.title(\"Karmaşıklık Matrisi (Confusion Matrix)\")\n",
        "plt.ylabel('Gerçek Etiket (True Label)')\n",
        "plt.xlabel('Tahmin Edilen Etiket (Predicted Label)')\n",
        "plt.show()\n",
        "\n",
        "print(\"=\"*70)\n",
        "\n",
        "plt.plot(history.history['accuracy'], label='Eğitim Doğruluğu')\n",
        "plt.plot(history.history['val_accuracy'], label='Doğrulama Doğruluğu')\n",
        "plt.legend()\n",
        "plt.title(\"Accuracy\")\n",
        "plt.show()\n",
        "\n",
        "plt.plot(history.history['loss'], label='Eğitim Kaybı')\n",
        "plt.plot(history.history['val_loss'], label='Doğrulama Kaybı')\n",
        "plt.legend()\n",
        "plt.title(\"Loss\")\n",
        "plt.show()"
      ],
      "metadata": {
        "colab": {
          "base_uri": "https://localhost:8080/",
          "height": 1000
        },
        "id": "7_IauJB1dZa6",
        "outputId": "031de8c9-d58f-437a-9858-b78ddb99c823"
      },
      "execution_count": 31,
      "outputs": [
        {
          "output_type": "stream",
          "name": "stdout",
          "text": [
            "\u001b[1m3/3\u001b[0m \u001b[32m━━━━━━━━━━━━━━━━━━━━\u001b[0m\u001b[37m\u001b[0m \u001b[1m3s\u001b[0m 842ms/step\n",
            "\n",
            "======================================================================\n",
            "MODEL DEĞERLENDİRME SONUÇLARI (Doğrulama Veri Seti)\n",
            "======================================================================\n",
            "Sınıflandırma Raporu (Precision, Recall, F1-Score):\n",
            "              precision    recall  f1-score   support\n",
            "\n",
            "          no       0.81      0.87      0.84        15\n",
            "         yes       0.91      0.87      0.89        23\n",
            "\n",
            "    accuracy                           0.87        38\n",
            "   macro avg       0.86      0.87      0.86        38\n",
            "weighted avg       0.87      0.87      0.87        38\n",
            "\n",
            "----------------------------------------------------------------------\n"
          ]
        },
        {
          "output_type": "display_data",
          "data": {
            "text/plain": [
              "<Figure size 800x600 with 2 Axes>"
            ],
            "image/png": "[encoded data removed]"
          },
          "metadata": {}
        },
        {
          "output_type": "stream",
          "name": "stdout",
          "text": [
            "======================================================================\n"
          ]
        },
        {
          "output_type": "display_data",
          "data": {
            "text/plain": [
              "<Figure size 640x480 with 1 Axes>"
            ],
            "image/png": "[encoded data removed]"
          },
          "metadata": {}
        },
        {
          "output_type": "display_data",
          "data": {
            "text/plain": [
              "<Figure size 640x480 with 1 Axes>"
            ],
            "image/png": "[encoded data removed]"
          },
          "metadata": {}
        }
      ]
    },
    {
      "cell_type": "markdown",
      "source": [
        "=================================================================\n",
        "Adım 9: Kullanıcudan MR Görseli alıp Tahmin Yapmak\n",
        "=================================================================\n",
        "\n",
        "uploaded=files.upload()\n",
        "img=Image.open(img_path)\n",
        "# Buton çıkarıp kullanıcıdan görsel yüklemesini sağlar\n",
        "\n",
        "#predict ile tahmin yapmasını sağladım\n"
      ],
      "metadata": {
        "id": "TORcl2BWkLlf"
      }
    },
    {
      "cell_type": "code",
      "source": [
        "from google.colab import files\n",
        "import numpy as np\n",
        "import matplotlib.pyplot as plt\n",
        "from tensorflow.keras.preprocessing import image\n",
        "from tensorflow.keras.applications.efficientnet import preprocess_input\n",
        "from PIL import Image\n",
        "\n",
        "# --- Kullanıcıdan görsel yükleme ---\n",
        "uploaded = files.upload()  # Colab butonu çıkar, görsel seçilir\n",
        "for fn in uploaded.keys():\n",
        "    img_path = fn\n",
        "    print(\"Seçilen dosya:\", img_path)\n",
        "\n",
        "    # Görseli aç ve modele uygun boyutlandır\n",
        "    img = Image.open(img_path).convert(\"RGB\").resize((224,224))\n",
        "    img_array = image.img_to_array(img)\n",
        "    img_array = np.expand_dims(img_array, axis=0)\n",
        "    img_array = preprocess_input(img_array)\n",
        "\n",
        "    # Tahmin\n",
        "    preds = model.predict(img_array)\n",
        "    y_pred = (preds > 0.5).astype(int).ravel()[0]\n",
        "\n",
        "    # Sınıf etiketini al\n",
        "    idx_to_class = {v:k for k,v in train_gen.class_indices.items()}\n",
        "    class_label = idx_to_class[y_pred]\n",
        "\n",
        "    # Görseli tahminle birlikte göster\n",
        "    plt.imshow(img)\n",
        "    plt.title(f\"Tahmin: {class_label}  |  Olasılık: {preds[0][0]:.2f}\")\n",
        "    plt.axis(\"off\")\n",
        "    plt.show()\n"
      ],
      "metadata": {
        "colab": {
          "base_uri": "https://localhost:8080/",
          "height": 519
        },
        "id": "eTcoYS3Mz3V6",
        "outputId": "628c7a1c-eec1-40d4-e9ea-d2651fd20dbe"
      },
      "execution_count": 35,
      "outputs": [
        {
          "output_type": "display_data",
          "data": {
            "text/plain": [
              "<IPython.core.display.HTML object>"
            ],
            "text/html": [
              "\n",
              "     <input type=\"file\" id=\"files-292bbed9-f9dc-4761-a792-a5b29287d9e4\" name=\"files[]\" multiple disabled\n",
              "        style=\"border:none\" />\n",
              "     <output id=\"result-292bbed9-f9dc-4761-a792-a5b29287d9e4\">\n",
              "      Upload widget is only available when the cell has been executed in the\n",
              "      current browser session. Please rerun this cell to enable.\n",
              "      </output>\n",
              "      <script>// Copyright 2017 Google LLC\n",
              "//\n",
              "// Licensed under the Apache License, Version 2.0 (the \"License\");\n",
              "// you may not use this file except in compliance with the License.\n",
              "// You may obtain a copy of the License at\n",
              "//\n",
              "//      http://www.apache.org/licenses/LICENSE-2.0\n",
              "//\n",
              "// Unless required by applicable law or agreed to in writing, software\n",
              "// distributed under the License is distributed on an \"AS IS\" BASIS,\n",
              "// WITHOUT WARRANTIES OR CONDITIONS OF ANY KIND, either express or implied.\n",
              "// See the License for the specific language governing permissions and\n",
              "// limitations under the License.\n",
              "\n",
              "/**\n",
              " * @fileoverview Helpers for google.colab Python module.\n",
              " */\n",
              "(function(scope) {\n",
              "function span(text, styleAttributes = {}) {\n",
              "  const element = document.createElement('span');\n",
              "  element.textContent = text;\n",
              "  for (const key of Object.keys(styleAttributes)) {\n",
              "    element.style[key] = styleAttributes[key];\n",
              "  }\n",
              "  return element;\n",
              "}\n",
              "\n",
              "// Max number of bytes which will be uploaded at a time.\n",
              "const MAX_PAYLOAD_SIZE = 100 * 1024;\n",
              "\n",
              "function _uploadFiles(inputId, outputId) {\n",
              "  const steps = uploadFilesStep(inputId, outputId);\n",
              "  const outputElement = document.getElementById(outputId);\n",
              "  // Cache steps on the outputElement to make it available for the next call\n",
              "  // to uploadFilesContinue from Python.\n",
              "  outputElement.steps = steps;\n",
              "\n",
              "  return _uploadFilesContinue(outputId);\n",
              "}\n",
              "\n",
              "// This is roughly an async generator (not supported in the browser yet),\n",
              "// where there are multiple asynchronous steps and the Python side is going\n",
              "// to poll for completion of each step.\n",
              "// This uses a Promise to block the python side on completion of each step,\n",
              "// then passes the result of the previous step as the input to the next step.\n",
              "function _uploadFilesContinue(outputId) {\n",
              "  const outputElement = document.getElementById(outputId);\n",
              "  const steps = outputElement.steps;\n",
              "\n",
              "  const next = steps.next(outputElement.lastPromiseValue);\n",
              "  return Promise.resolve(next.value.promise).then((value) => {\n",
              "    // Cache the last promise value to make it available to the next\n",
              "    // step of the generator.\n",
              "    outputElement.lastPromiseValue = value;\n",
              "    return next.value.response;\n",
              "  });\n",
              "}\n",
              "\n",
              "/**\n",
              " * Generator function which is called between each async step of the upload\n",
              " * process.\n",
              " * @param {string} inputId Element ID of the input file picker element.\n",
              " * @param {string} outputId Element ID of the output display.\n",
              " * @return {!Iterable<!Object>} Iterable of next steps.\n",
              " */\n",
              "function* uploadFilesStep(inputId, outputId) {\n",
              "  const inputElement = document.getElementById(inputId);\n",
              "  inputElement.disabled = false;\n",
              "\n",
              "  const outputElement = document.getElementById(outputId);\n",
              "  outputElement.innerHTML = '';\n",
              "\n",
              "  const pickedPromise = new Promise((resolve) => {\n",
              "    inputElement.addEventListener('change', (e) => {\n",
              "      resolve(e.target.files);\n",
              "    });\n",
              "  });\n",
              "\n",
              "  const cancel = document.createElement('button');\n",
              "  inputElement.parentElement.appendChild(cancel);\n",
              "  cancel.textContent = 'Cancel upload';\n",
              "  const cancelPromise = new Promise((resolve) => {\n",
              "    cancel.onclick = () => {\n",
              "      resolve(null);\n",
              "    };\n",
              "  });\n",
              "\n",
              "  // Wait for the user to pick the files.\n",
              "  const files = yield {\n",
              "    promise: Promise.race([pickedPromise, cancelPromise]),\n",
              "    response: {\n",
              "      action: 'starting',\n",
              "    }\n",
              "  };\n",
              "\n",
              "  cancel.remove();\n",
              "\n",
              "  // Disable the input element since further picks are not allowed.\n",
              "  inputElement.disabled = true;\n",
              "\n",
              "  if (!files) {\n",
              "    return {\n",
              "      response: {\n",
              "        action: 'complete',\n",
              "      }\n",
              "    };\n",
              "  }\n",
              "\n",
              "  for (const file of files) {\n",
              "    const li = document.createElement('li');\n",
              "    li.append(span(file.name, {fontWeight: 'bold'}));\n",
              "    li.append(span(\n",
              "        `(${file.type || 'n/a'}) - ${file.size} bytes, ` +\n",
              "        `last modified: ${\n",
              "            file.lastModifiedDate ? file.lastModifiedDate.toLocaleDateString() :\n",
              "                                    'n/a'} - `));\n",
              "    const percent = span('0% done');\n",
              "    li.appendChild(percent);\n",
              "\n",
              "    outputElement.appendChild(li);\n",
              "\n",
              "    const fileDataPromise = new Promise((resolve) => {\n",
              "      const reader = new FileReader();\n",
              "      reader.onload = (e) => {\n",
              "        resolve(e.target.result);\n",
              "      };\n",
              "      reader.readAsArrayBuffer(file);\n",
              "    });\n",
              "    // Wait for the data to be ready.\n",
              "    let fileData = yield {\n",
              "      promise: fileDataPromise,\n",
              "      response: {\n",
              "        action: 'continue',\n",
              "      }\n",
              "    };\n",
              "\n",
              "    // Use a chunked sending to avoid message size limits. See b/62115660.\n",
              "    let position = 0;\n",
              "    do {\n",
              "      const length = Math.min(fileData.byteLength - position, MAX_PAYLOAD_SIZE);\n",
              "      const chunk = new Uint8Array(fileData, position, length);\n",
              "      position += length;\n",
              "\n",
              "      const base64 = btoa(String.fromCharCode.apply(null, chunk));\n",
              "      yield {\n",
              "        response: {\n",
              "          action: 'append',\n",
              "          file: file.name,\n",
              "          data: base64,\n",
              "        },\n",
              "      };\n",
              "\n",
              "      let percentDone = fileData.byteLength === 0 ?\n",
              "          100 :\n",
              "          Math.round((position / fileData.byteLength) * 100);\n",
              "      percent.textContent = `${percentDone}% done`;\n",
              "\n",
              "    } while (position < fileData.byteLength);\n",
              "  }\n",
              "\n",
              "  // All done.\n",
              "  yield {\n",
              "    response: {\n",
              "      action: 'complete',\n",
              "    }\n",
              "  };\n",
              "}\n",
              "\n",
              "scope.google = scope.google || {};\n",
              "scope.google.colab = scope.google.colab || {};\n",
              "scope.google.colab._files = {\n",
              "  _uploadFiles,\n",
              "  _uploadFilesContinue,\n",
              "};\n",
              "})(self);\n",
              "</script> "
            ]
          },
          "metadata": {}
        },
        {
          "output_type": "stream",
          "name": "stdout",
          "text": [
            "Saving WhatsApp Image 2025-09-26 at 14.20.40.jpeg to WhatsApp Image 2025-09-26 at 14.20.40 (1).jpeg\n",
            "Seçilen dosya: WhatsApp Image 2025-09-26 at 14.20.40 (1).jpeg\n",
            "\u001b[1m1/1\u001b[0m \u001b[32m━━━━━━━━━━━━━━━━━━━━\u001b[0m\u001b[37m\u001b[0m \u001b[1m0s\u001b[0m 130ms/step\n"
          ]
        },
        {
          "output_type": "display_data",
          "data": {
            "text/plain": [
              "<Figure size 640x480 with 1 Axes>"
            ],
            "image/png": "[encoded data removed]"
          },
          "metadata": {}
        }
      ]
    }
  ]
}